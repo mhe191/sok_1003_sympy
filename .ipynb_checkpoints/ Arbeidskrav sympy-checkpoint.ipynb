{
 "cells": [
  {
   "cell_type": "markdown",
   "id": "17f6bc57-b528-4581-9be9-ff6def5e9788",
   "metadata": {},
   "source": [
    "# Arbeidskrav sympy"
   ]
  },
  {
   "cell_type": "markdown",
   "id": "d19aca40-dae6-42ce-a1bb-ed0004bf9b36",
   "metadata": {},
   "source": [
    "### Oppgave 15"
   ]
  },
  {
   "cell_type": "code",
   "execution_count": 151,
   "id": "612deb77-d57b-4bff-a90c-380edeee953d",
   "metadata": {},
   "outputs": [],
   "source": [
    "import matplotlib.pyplot as plt\n",
    "import numpy as np\n",
    "from sympy import symbols, Eq, solve, sqrt, ln, exp"
   ]
  },
  {
   "cell_type": "markdown",
   "id": "13330876-93e1-4a77-a9a4-2a8a1e8683c9",
   "metadata": {},
   "source": [
    "#### 1 a)"
   ]
  },
  {
   "cell_type": "code",
   "execution_count": 68,
   "id": "871bf16f-dd53-4260-a4b7-8a7b942d027f",
   "metadata": {
    "tags": []
   },
   "outputs": [
    {
     "data": {
      "text/plain": [
       "{x: -1, y: 2}"
      ]
     },
     "execution_count": 68,
     "metadata": {},
     "output_type": "execute_result"
    }
   ],
   "source": [
    "x, y = sp.symbols('x y')\n",
    "eq1 = Eq(2*x + 4*y, 6)\n",
    "eq2 = Eq(-2*x + y, 4)\n",
    "solve((eq1,eq2), (x, y))"
   ]
  },
  {
   "cell_type": "raw",
   "id": "4c5e2237-c0cb-4646-a6aa-85b9e4c23b8f",
   "metadata": {},
   "source": []
  },
  {
   "cell_type": "markdown",
   "id": "8d35cec0-893c-41b8-85ec-2c34805a9953",
   "metadata": {},
   "source": [
    "#### 1 b)"
   ]
  },
  {
   "cell_type": "code",
   "execution_count": 71,
   "id": "c4e3a045-8313-4faf-91bb-fcd6c69b5e04",
   "metadata": {},
   "outputs": [
    {
     "data": {
      "text/plain": [
       "[(-1, -1), (2, 5)]"
      ]
     },
     "execution_count": 71,
     "metadata": {},
     "output_type": "execute_result"
    }
   ],
   "source": [
    "x, y = sp.symbols('x y')\n",
    "eq1 = Eq(2*x - y, -1)\n",
    "eq2 = Eq(x**2 + x - y, 1)\n",
    "solve((eq1,eq2), (x, y))"
   ]
  },
  {
   "cell_type": "raw",
   "id": "d108b766-3d1a-483d-b905-6f52380972cc",
   "metadata": {},
   "source": []
  },
  {
   "cell_type": "markdown",
   "id": "d401316e-d77f-4889-ac48-f55fec6e24c9",
   "metadata": {},
   "source": [
    "### 2 a)"
   ]
  },
  {
   "cell_type": "code",
   "execution_count": 77,
   "id": "cb60da4a-0feb-4942-80a0-637b59981813",
   "metadata": {},
   "outputs": [
    {
     "data": {
      "text/plain": [
       "{x: 4, y: 0}"
      ]
     },
     "execution_count": 77,
     "metadata": {},
     "output_type": "execute_result"
    }
   ],
   "source": [
    "x, y = sp.symbols('x y')\n",
    "eq1 = Eq(3*x - 12, -6*y)\n",
    "eq2 = Eq(4*x - 8*y, 16)\n",
    "solve((eq1,eq2), (x, y))"
   ]
  },
  {
   "cell_type": "raw",
   "id": "0ee903f5-8f51-4e24-9b97-d9675bd13f08",
   "metadata": {},
   "source": []
  },
  {
   "cell_type": "code",
   "execution_count": 76,
   "id": "65ead1f0-cc09-4ee8-bf1d-614f5169c39a",
   "metadata": {},
   "outputs": [
    {
     "data": {
      "text/plain": [
       "[(-15/2, 31/4), (2, 3)]"
      ]
     },
     "execution_count": 76,
     "metadata": {},
     "output_type": "execute_result"
    }
   ],
   "source": [
    "x, y = sp.symbols('x y')\n",
    "eq1 = Eq(x**2 + 4*x - 3, 3*y)\n",
    "eq2 = Eq(2*y, 8 - x)\n",
    "solve((eq1,eq2), (x, y))"
   ]
  },
  {
   "cell_type": "raw",
   "id": "d4377e39-9e84-41ed-9c7b-61ab1c89a0aa",
   "metadata": {},
   "source": []
  },
  {
   "cell_type": "markdown",
   "id": "c12a0282-ef4a-4a5e-a680-165a9d6afbc9",
   "metadata": {},
   "source": [
    "### Oppgave 16"
   ]
  },
  {
   "cell_type": "markdown",
   "id": "b7a4a073-41be-4ba5-a784-38967e08075e",
   "metadata": {},
   "source": [
    "#### 1 a)"
   ]
  },
  {
   "cell_type": "code",
   "execution_count": 80,
   "id": "ea8a5afe-afa8-45d3-9ccf-643875fb768f",
   "metadata": {},
   "outputs": [
    {
     "data": {
      "text/plain": [
       "{x: 2, y: 2}"
      ]
     },
     "execution_count": 80,
     "metadata": {},
     "output_type": "execute_result"
    }
   ],
   "source": [
    "x, y = sp.symbols('x y')\n",
    "eq1 = Eq(4*x + 2*y, 12)\n",
    "eq2 = Eq(6*x - 2*y, 8)\n",
    "solve((eq1,eq2), (x, y))"
   ]
  },
  {
   "cell_type": "raw",
   "id": "3414fd1c-913d-4e3e-8d23-3e9743fea8d6",
   "metadata": {},
   "source": []
  },
  {
   "cell_type": "markdown",
   "id": "bd855736-f162-4fe0-8b00-426a3771b4c3",
   "metadata": {},
   "source": [
    "#### 1 b)"
   ]
  },
  {
   "cell_type": "code",
   "execution_count": 81,
   "id": "06fbd1bb-4dfc-4ae5-929b-336d3ffc7e83",
   "metadata": {},
   "outputs": [
    {
     "data": {
      "text/plain": [
       "[(0, -5), (12, 1)]"
      ]
     },
     "execution_count": 81,
     "metadata": {},
     "output_type": "execute_result"
    }
   ],
   "source": [
    "x, y = sp.symbols('x y')\n",
    "eq1 = Eq(2*x + y**2, 25)\n",
    "eq2 = Eq(x - 2*y, 10)\n",
    "solve((eq1,eq2), (x, y))"
   ]
  },
  {
   "cell_type": "raw",
   "id": "15c368c8-d791-41b6-83de-e0d459dc12e0",
   "metadata": {},
   "source": []
  },
  {
   "cell_type": "markdown",
   "id": "42f10602-98c2-4e0f-846a-d3bba1d67e13",
   "metadata": {},
   "source": [
    "#### 2 a)"
   ]
  },
  {
   "cell_type": "code",
   "execution_count": 82,
   "id": "a5098559-f133-4f28-9760-375f82417ac8",
   "metadata": {},
   "outputs": [
    {
     "data": {
      "text/plain": [
       "{x: 4, y: 2}"
      ]
     },
     "execution_count": 82,
     "metadata": {},
     "output_type": "execute_result"
    }
   ],
   "source": [
    "x, y = sp.symbols('x y')\n",
    "eq1 = Eq(4*x - 4*y, 8)\n",
    "eq2 = Eq(9*x - 5*y, 26)\n",
    "solve((eq1,eq2), (x, y))"
   ]
  },
  {
   "cell_type": "raw",
   "id": "7ff5f3ec-4e56-4cd7-aad7-bbf5d6f84e3c",
   "metadata": {},
   "source": []
  },
  {
   "cell_type": "markdown",
   "id": "826e49b6-d7d7-4056-baf0-54c1164d99d2",
   "metadata": {},
   "source": [
    "#### 2 b)"
   ]
  },
  {
   "cell_type": "code",
   "execution_count": 83,
   "id": "b026d04e-fc5a-4040-ba8d-4a86b5eb9c03",
   "metadata": {},
   "outputs": [
    {
     "data": {
      "text/plain": [
       "[(-9, -2*sqrt(3)), (-9, 2*sqrt(3)), (7, -2), (7, 2)]"
      ]
     },
     "execution_count": 83,
     "metadata": {},
     "output_type": "execute_result"
    }
   ],
   "source": [
    "x, y = sp.symbols('x y')\n",
    "eq1 = Eq(x + 2*y**2, 15)\n",
    "eq2 = Eq(x**2 - 4*y**2, 33)\n",
    "solve((eq1,eq2), (x, y))"
   ]
  },
  {
   "cell_type": "raw",
   "id": "f50645d7-27a4-4890-ab04-4e36b45083f0",
   "metadata": {},
   "source": []
  },
  {
   "cell_type": "markdown",
   "id": "c0f10d1e-6612-454f-a067-b403ebb0d7df",
   "metadata": {},
   "source": [
    "### Oppgave 17"
   ]
  },
  {
   "cell_type": "markdown",
   "id": "f27315b1-3214-4adc-9f2f-917473526c60",
   "metadata": {},
   "source": [
    "#### 1 a)"
   ]
  },
  {
   "cell_type": "code",
   "execution_count": 84,
   "id": "9cab473f-11c8-492d-97d3-22e3c2fd1c85",
   "metadata": {},
   "outputs": [
    {
     "data": {
      "text/plain": [
       "[(0, -4), (0, 4), (15, -1), (15, 1)]"
      ]
     },
     "execution_count": 84,
     "metadata": {},
     "output_type": "execute_result"
    }
   ],
   "source": [
    "x, y = sp.symbols('x y')\n",
    "eq1 = Eq(x*y**2 - x, 0)\n",
    "eq2 = Eq(x + y**2, 16)\n",
    "solve((eq1,eq2), (x, y))"
   ]
  },
  {
   "cell_type": "raw",
   "id": "8a1473e8-af1b-4943-83ac-d475c87f8a7e",
   "metadata": {},
   "source": []
  },
  {
   "cell_type": "markdown",
   "id": "87053b85-be98-4727-8ad0-ced4a7dc3087",
   "metadata": {},
   "source": [
    "#### 1 b)"
   ]
  },
  {
   "cell_type": "code",
   "execution_count": 85,
   "id": "d08bdd44-015f-4218-b1c4-786bccb39b76",
   "metadata": {},
   "outputs": [
    {
     "data": {
      "text/plain": [
       "[(-10, 0), (-6, -8), (-6, 8), (6, -8), (6, 8), (10, 0)]"
      ]
     },
     "execution_count": 85,
     "metadata": {},
     "output_type": "execute_result"
    }
   ],
   "source": [
    "x, y = sp.symbols('x y')\n",
    "eq1 = Eq(x**2 + y**2, 100)\n",
    "eq2 = Eq(x**2*y - 36*y, 0)\n",
    "solve((eq1,eq2), (x, y))"
   ]
  },
  {
   "cell_type": "raw",
   "id": "f6dd29f5-fb25-4ff6-810c-7ceec6d8a89c",
   "metadata": {},
   "source": []
  },
  {
   "cell_type": "markdown",
   "id": "e1585a9b-9b23-4572-9d52-1467ef93ce5b",
   "metadata": {},
   "source": [
    "#### 2 a)"
   ]
  },
  {
   "cell_type": "code",
   "execution_count": 90,
   "id": "cbe1d296-90c7-474c-99b7-7b23243b1cd1",
   "metadata": {},
   "outputs": [
    {
     "data": {
      "text/plain": [
       "[(0, 29), (22, 7), (36, -7)]"
      ]
     },
     "execution_count": 90,
     "metadata": {},
     "output_type": "execute_result"
    }
   ],
   "source": [
    "x, y = sp.symbols('x y')\n",
    "eq1 = Eq(x*y**2 - 49*x, 0)\n",
    "eq2 = Eq(x*2 + y*2, 58)\n",
    "solve((eq1,eq2), (x, y))"
   ]
  },
  {
   "cell_type": "raw",
   "id": "e7fee6c0-6777-41e9-9d98-eb03c552cd27",
   "metadata": {},
   "source": []
  },
  {
   "cell_type": "markdown",
   "id": "ac6af4bc-e1db-490a-ab7b-36243be74c69",
   "metadata": {},
   "source": [
    "#### 2 b)"
   ]
  },
  {
   "cell_type": "code",
   "execution_count": 89,
   "id": "4ef1a504-13ae-4d4a-99e1-1f54b607fb76",
   "metadata": {},
   "outputs": [
    {
     "data": {
      "text/plain": [
       "[(-1.11803398874989, 0.0),\n",
       " (-0.500000000000000, -1.00000000000000),\n",
       " (-0.500000000000000, 1.00000000000000),\n",
       " (1.11803398874989, 0.0)]"
      ]
     },
     "execution_count": 89,
     "metadata": {},
     "output_type": "execute_result"
    }
   ],
   "source": [
    "x, y = sp.symbols('x y')\n",
    "eq1 = Eq(x**2 + y**2, 5/4)\n",
    "eq2 = Eq(2*x*y + y, 0)\n",
    "solve((eq1,eq2), (x, y))"
   ]
  },
  {
   "cell_type": "raw",
   "id": "5fe3ae77-899a-49fe-91b6-610322465a14",
   "metadata": {},
   "source": []
  },
  {
   "cell_type": "markdown",
   "id": "61bca076-df0b-4ed8-825e-9f6e8412b821",
   "metadata": {},
   "source": [
    "### Oppgave 19"
   ]
  },
  {
   "cell_type": "markdown",
   "id": "1e1cc028-30a5-4b95-8163-f150361256d0",
   "metadata": {},
   "source": [
    "#### 1 a)"
   ]
  },
  {
   "cell_type": "code",
   "execution_count": 91,
   "id": "eeb09e01-025c-471e-b226-92fc35c92c51",
   "metadata": {},
   "outputs": [
    {
     "data": {
      "text/latex": [
       "$\\displaystyle 5 x^{4}$"
      ],
      "text/plain": [
       "5*x**4"
      ]
     },
     "execution_count": 91,
     "metadata": {},
     "output_type": "execute_result"
    }
   ],
   "source": [
    "sp.diff(x**5)"
   ]
  },
  {
   "cell_type": "markdown",
   "id": "63e3d1cf-27a0-4548-9d29-3b8a026a59d4",
   "metadata": {},
   "source": [
    "#### 1 b)"
   ]
  },
  {
   "cell_type": "code",
   "execution_count": 92,
   "id": "561d0585-505e-466b-8752-cdc1ff0e7c1a",
   "metadata": {},
   "outputs": [
    {
     "data": {
      "text/latex": [
       "$\\displaystyle 1$"
      ],
      "text/plain": [
       "1"
      ]
     },
     "execution_count": 92,
     "metadata": {},
     "output_type": "execute_result"
    }
   ],
   "source": [
    "sp.diff(x + 12)"
   ]
  },
  {
   "cell_type": "markdown",
   "id": "7ac22f34-44be-4e35-be49-82fd34f37e1b",
   "metadata": {},
   "source": [
    "#### 1c)"
   ]
  },
  {
   "cell_type": "code",
   "execution_count": 93,
   "id": "e6bec60e-f02f-45cb-98a0-e16e0234a7db",
   "metadata": {},
   "outputs": [
    {
     "data": {
      "text/latex": [
       "$\\displaystyle 3 x^{2} + 8 x$"
      ],
      "text/plain": [
       "3*x**2 + 8*x"
      ]
     },
     "execution_count": 93,
     "metadata": {},
     "output_type": "execute_result"
    }
   ],
   "source": [
    "sp.diff(x**3 + 4*x**2)"
   ]
  },
  {
   "cell_type": "markdown",
   "id": "0066c011-1868-428a-a34e-9352077ae66c",
   "metadata": {},
   "source": [
    "#### 1 d)"
   ]
  },
  {
   "cell_type": "code",
   "execution_count": 96,
   "id": "e4d7a41a-ca18-4663-b764-b6f0c5e470af",
   "metadata": {},
   "outputs": [
    {
     "data": {
      "text/latex": [
       "$\\displaystyle 6 x^{2}$"
      ],
      "text/plain": [
       "6*x**2"
      ]
     },
     "execution_count": 96,
     "metadata": {},
     "output_type": "execute_result"
    }
   ],
   "source": [
    "sp.diff(2*x**3 + sqrt(36))"
   ]
  },
  {
   "cell_type": "markdown",
   "id": "fcbe1011-d42c-4f66-9da0-122d1a587387",
   "metadata": {},
   "source": [
    "#### 1 e)"
   ]
  },
  {
   "cell_type": "code",
   "execution_count": 97,
   "id": "0b5b8c58-ceac-498f-9b0d-9948bfa12f99",
   "metadata": {},
   "outputs": [
    {
     "data": {
      "text/latex": [
       "$\\displaystyle \\frac{1}{2 \\sqrt{x}}$"
      ],
      "text/plain": [
       "1/(2*sqrt(x))"
      ]
     },
     "execution_count": 97,
     "metadata": {},
     "output_type": "execute_result"
    }
   ],
   "source": [
    "sp.diff(sqrt(x) + 5*2)"
   ]
  },
  {
   "cell_type": "markdown",
   "id": "3e98f50a-6067-4e99-b603-d7e18367f85c",
   "metadata": {},
   "source": [
    "#### 1 f)"
   ]
  },
  {
   "cell_type": "code",
   "execution_count": 98,
   "id": "06c73e02-4f26-488e-8f63-5a41f2b0013d",
   "metadata": {},
   "outputs": [
    {
     "data": {
      "text/latex": [
       "$\\displaystyle 3 x^{2} - \\frac{1}{x^{2}}$"
      ],
      "text/plain": [
       "3*x**2 - 1/x**2"
      ]
     },
     "execution_count": 98,
     "metadata": {},
     "output_type": "execute_result"
    }
   ],
   "source": [
    "sp.diff(x**3 + 1/x)"
   ]
  },
  {
   "cell_type": "markdown",
   "id": "fd8785d1-bab0-4ed5-8b61-d345e4072bda",
   "metadata": {},
   "source": [
    "#### 1 g)"
   ]
  },
  {
   "cell_type": "code",
   "execution_count": 99,
   "id": "825cb0fd-3aae-4617-bf17-54695da3fb05",
   "metadata": {},
   "outputs": [
    {
     "data": {
      "text/latex": [
       "$\\displaystyle 3 x^{2} - 2 x + 0.25$"
      ],
      "text/plain": [
       "3*x**2 - 2*x + 0.25"
      ]
     },
     "execution_count": 99,
     "metadata": {},
     "output_type": "execute_result"
    }
   ],
   "source": [
    "sp.diff(x**3 - x**2 + 1/4*x)"
   ]
  },
  {
   "cell_type": "raw",
   "id": "7a91d215-ed3c-4106-86c3-ad43fe430b32",
   "metadata": {},
   "source": []
  },
  {
   "cell_type": "markdown",
   "id": "7086b41e-7fa1-45f7-a903-353f1a99bbde",
   "metadata": {},
   "source": [
    "#### 2 a)"
   ]
  },
  {
   "cell_type": "code",
   "execution_count": 100,
   "id": "93839133-3045-4b9d-9656-ff29797dfa3a",
   "metadata": {},
   "outputs": [
    {
     "data": {
      "text/latex": [
       "$\\displaystyle 36 x^{5} - \\frac{1}{x^{2}}$"
      ],
      "text/plain": [
       "36*x**5 - 1/x**2"
      ]
     },
     "execution_count": 100,
     "metadata": {},
     "output_type": "execute_result"
    }
   ],
   "source": [
    "sp.diff(1/x + 6*x**6)"
   ]
  },
  {
   "cell_type": "markdown",
   "id": "cadfc3c8-1d29-4758-9d08-73c250e0b19e",
   "metadata": {},
   "source": [
    "#### 2 b)"
   ]
  },
  {
   "cell_type": "code",
   "execution_count": 101,
   "id": "cc2dee14-caaf-496e-9fe3-d60913fff824",
   "metadata": {},
   "outputs": [
    {
     "data": {
      "text/latex": [
       "$\\displaystyle 1.5 x^{2} - 1$"
      ],
      "text/plain": [
       "1.5*x**2 - 1"
      ]
     },
     "execution_count": 101,
     "metadata": {},
     "output_type": "execute_result"
    }
   ],
   "source": [
    "sp.diff(-x + 1/2*x**3)"
   ]
  },
  {
   "cell_type": "markdown",
   "id": "9f19e83e-4599-44aa-82ba-aac7efd63de5",
   "metadata": {},
   "source": [
    "#### 2 c)"
   ]
  },
  {
   "cell_type": "code",
   "execution_count": 102,
   "id": "cd3f0296-98a6-4470-8b3d-583339541908",
   "metadata": {},
   "outputs": [
    {
     "data": {
      "text/latex": [
       "$\\displaystyle x^{2} + x \\left(2 x + 2\\right) + 2 x - 3$"
      ],
      "text/plain": [
       "x**2 + x*(2*x + 2) + 2*x - 3"
      ]
     },
     "execution_count": 102,
     "metadata": {},
     "output_type": "execute_result"
    }
   ],
   "source": [
    "sp.diff(x*(x**2 + 2*x - 3))"
   ]
  },
  {
   "cell_type": "raw",
   "id": "eb3db147-c2a4-4c2c-890a-46509b09f61e",
   "metadata": {},
   "source": []
  },
  {
   "cell_type": "markdown",
   "id": "e2481ffe-ff0c-4afc-99f2-6e0d0e3ea32c",
   "metadata": {},
   "source": [
    "### Oppgave 20"
   ]
  },
  {
   "cell_type": "markdown",
   "id": "f2c14b30-0290-488b-b69d-600193c0fe59",
   "metadata": {},
   "source": [
    "#### 1 a)"
   ]
  },
  {
   "cell_type": "code",
   "execution_count": 104,
   "id": "6435030a-19b4-44dd-b0db-f0d101a41084",
   "metadata": {},
   "outputs": [
    {
     "data": {
      "text/latex": [
       "$\\displaystyle \\frac{18 \\sqrt{x^{12}}}{x}$"
      ],
      "text/plain": [
       "18*sqrt(x**12)/x"
      ]
     },
     "execution_count": 104,
     "metadata": {},
     "output_type": "execute_result"
    }
   ],
   "source": [
    "sp.diff(3*sqrt(x**12))"
   ]
  },
  {
   "cell_type": "markdown",
   "id": "8c4efd1d-f909-44b4-881d-f0f6bab53edb",
   "metadata": {},
   "source": [
    "#### 1 b)"
   ]
  },
  {
   "cell_type": "code",
   "execution_count": 105,
   "id": "9f8da65b-a3a9-45d3-a040-1763463872f2",
   "metadata": {},
   "outputs": [
    {
     "data": {
      "text/latex": [
       "$\\displaystyle \\frac{32 x \\sqrt{\\left(x^{2} + 4\\right)^{4}}}{x^{2} + 4}$"
      ],
      "text/plain": [
       "32*x*sqrt((x**2 + 4)**4)/(x**2 + 4)"
      ]
     },
     "execution_count": 105,
     "metadata": {},
     "output_type": "execute_result"
    }
   ],
   "source": [
    "sp.diff(8*sqrt((x**2 + 4)**4))"
   ]
  },
  {
   "cell_type": "markdown",
   "id": "59c50576-4f85-446e-bcb5-31961a76ef1f",
   "metadata": {},
   "source": [
    "#### 1 c)"
   ]
  },
  {
   "cell_type": "code",
   "execution_count": 112,
   "id": "62c6c660-a414-4c03-b867-bf514dd6888e",
   "metadata": {},
   "outputs": [
    {
     "data": {
      "text/latex": [
       "$\\displaystyle 3$"
      ],
      "text/plain": [
       "3"
      ]
     },
     "execution_count": 112,
     "metadata": {},
     "output_type": "execute_result"
    }
   ],
   "source": [
    "sp.diff(sqrt(x) * 3*sqrt(x))"
   ]
  },
  {
   "cell_type": "markdown",
   "id": "bebcc026-a86a-41e4-96d1-a88338cce453",
   "metadata": {},
   "source": [
    "#### 1 d)"
   ]
  },
  {
   "cell_type": "code",
   "execution_count": 113,
   "id": "e028ec1e-b199-4b4a-bf8a-3a5e262fa5ec",
   "metadata": {},
   "outputs": [
    {
     "data": {
      "text/latex": [
       "$\\displaystyle \\frac{1}{\\sqrt{\\frac{x}{2} + 1}}$"
      ],
      "text/plain": [
       "1/sqrt(x/2 + 1)"
      ]
     },
     "execution_count": 113,
     "metadata": {},
     "output_type": "execute_result"
    }
   ],
   "source": [
    "sp.diff(4*sqrt((x + 2)*1/2))"
   ]
  },
  {
   "cell_type": "markdown",
   "id": "7bc7776e-4eee-4b54-b71b-fe936d2a4706",
   "metadata": {},
   "source": [
    "#### 1 e)"
   ]
  },
  {
   "cell_type": "code",
   "execution_count": 114,
   "id": "6f337125-02e3-42e3-9355-f4b033e2622a",
   "metadata": {},
   "outputs": [
    {
     "data": {
      "text/latex": [
       "$\\displaystyle 9 x^{8}$"
      ],
      "text/plain": [
       "9*x**8"
      ]
     },
     "execution_count": 114,
     "metadata": {},
     "output_type": "execute_result"
    }
   ],
   "source": [
    "sp.diff(x**4 * x**5)"
   ]
  },
  {
   "cell_type": "markdown",
   "id": "0fd92405-5514-4123-9e37-7cea7ff04949",
   "metadata": {},
   "source": [
    "#### 1 f)"
   ]
  },
  {
   "cell_type": "code",
   "execution_count": 115,
   "id": "3fedf5db-6a9c-4d20-81f4-6bded87dffc9",
   "metadata": {},
   "outputs": [
    {
     "data": {
      "text/latex": [
       "$\\displaystyle \\frac{3 \\sqrt{x}}{2}$"
      ],
      "text/plain": [
       "3*sqrt(x)/2"
      ]
     },
     "execution_count": 115,
     "metadata": {},
     "output_type": "execute_result"
    }
   ],
   "source": [
    "sp.diff(x * sqrt(x))"
   ]
  },
  {
   "cell_type": "markdown",
   "id": "9ce6ea5d-7b40-4dfb-ab7f-a2673dde753b",
   "metadata": {},
   "source": [
    "#### 1 g)"
   ]
  },
  {
   "cell_type": "code",
   "execution_count": 116,
   "id": "6adf4710-7857-4756-b82e-46ea0d793dbf",
   "metadata": {},
   "outputs": [
    {
     "data": {
      "text/latex": [
       "$\\displaystyle - \\frac{6}{x^{4}}$"
      ],
      "text/plain": [
       "-6/x**4"
      ]
     },
     "execution_count": 116,
     "metadata": {},
     "output_type": "execute_result"
    }
   ],
   "source": [
    "sp.diff(2/x**3)"
   ]
  },
  {
   "cell_type": "markdown",
   "id": "acf6d3c6-a6f4-46d7-8949-10393314c1cb",
   "metadata": {},
   "source": [
    "#### 1 h)"
   ]
  },
  {
   "cell_type": "code",
   "execution_count": 117,
   "id": "ef4dc6ef-5842-4cf4-a23e-14852976a4fe",
   "metadata": {},
   "outputs": [
    {
     "data": {
      "text/latex": [
       "$\\displaystyle \\frac{2}{x^{2}} - \\frac{3 \\left(x^{2} - 2\\right)}{x^{4}}$"
      ],
      "text/plain": [
       "2/x**2 - 3*(x**2 - 2)/x**4"
      ]
     },
     "execution_count": 117,
     "metadata": {},
     "output_type": "execute_result"
    }
   ],
   "source": [
    "sp.diff((x**2 - 2)/x**3)"
   ]
  },
  {
   "cell_type": "markdown",
   "id": "a19e8bbe-368f-4b1a-9196-e3eb31b3f6f4",
   "metadata": {},
   "source": [
    "####  1 i)"
   ]
  },
  {
   "cell_type": "code",
   "execution_count": 118,
   "id": "ff0bdb67-61db-4dfd-ac84-86ecb2d64612",
   "metadata": {},
   "outputs": [
    {
     "data": {
      "text/latex": [
       "$\\displaystyle \\frac{13 x^{\\frac{11}{2}}}{2}$"
      ],
      "text/plain": [
       "13*x**(11/2)/2"
      ]
     },
     "execution_count": 118,
     "metadata": {},
     "output_type": "execute_result"
    }
   ],
   "source": [
    "sp.diff(sqrt(x) * x**6)"
   ]
  },
  {
   "cell_type": "markdown",
   "id": "69943a81-6217-4a35-b317-10ab46c92d8c",
   "metadata": {},
   "source": [
    "#### 1 j)"
   ]
  },
  {
   "cell_type": "code",
   "execution_count": 119,
   "id": "4a3ae05e-7615-47a7-8e23-4de5a802bda3",
   "metadata": {},
   "outputs": [
    {
     "data": {
      "text/latex": [
       "$\\displaystyle 3 x^{2} + 1$"
      ],
      "text/plain": [
       "3*x**2 + 1"
      ]
     },
     "execution_count": 119,
     "metadata": {},
     "output_type": "execute_result"
    }
   ],
   "source": [
    "sp.diff(x * (x**2 + 1))"
   ]
  },
  {
   "cell_type": "markdown",
   "id": "d8be985f-9e31-41d9-801d-ab0733b88090",
   "metadata": {},
   "source": [
    "#### 1 k)"
   ]
  },
  {
   "cell_type": "code",
   "execution_count": 120,
   "id": "8be0a3b1-9ebb-422f-83c9-e4aecdf3e389",
   "metadata": {},
   "outputs": [
    {
     "data": {
      "text/latex": [
       "$\\displaystyle - \\frac{3 x^{2} \\left(x^{2} + 4\\right)}{\\left(x^{3} - 1\\right)^{2}} + \\frac{2 x}{x^{3} - 1}$"
      ],
      "text/plain": [
       "-3*x**2*(x**2 + 4)/(x**3 - 1)**2 + 2*x/(x**3 - 1)"
      ]
     },
     "execution_count": 120,
     "metadata": {},
     "output_type": "execute_result"
    }
   ],
   "source": [
    "sp.diff((x**2 + 4) / (x**3 - 1))"
   ]
  },
  {
   "cell_type": "markdown",
   "id": "9d75a0a1-0de3-4acf-b51b-e4ebc25ea144",
   "metadata": {},
   "source": [
    "#### 1 l)"
   ]
  },
  {
   "cell_type": "code",
   "execution_count": 121,
   "id": "e75407bf-3818-48f2-820c-a5383a7d260e",
   "metadata": {},
   "outputs": [
    {
     "data": {
      "text/latex": [
       "$\\displaystyle \\frac{x^{2} \\left(- 2 x - 2\\right)}{\\left(x^{2} + 2 x\\right)^{2}} + \\frac{2 x}{x^{2} + 2 x}$"
      ],
      "text/plain": [
       "x**2*(-2*x - 2)/(x**2 + 2*x)**2 + 2*x/(x**2 + 2*x)"
      ]
     },
     "execution_count": 121,
     "metadata": {},
     "output_type": "execute_result"
    }
   ],
   "source": [
    "sp.diff((x**2) / (x**2 + 2*x))"
   ]
  },
  {
   "cell_type": "markdown",
   "id": "f9890a6b-97bf-4d45-b863-d98370953f17",
   "metadata": {},
   "source": [
    "#### 1 m)"
   ]
  },
  {
   "cell_type": "code",
   "execution_count": 122,
   "id": "1787c2ff-1586-460a-92d8-1634326ad79c",
   "metadata": {},
   "outputs": [
    {
     "data": {
      "text/latex": [
       "$\\displaystyle \\frac{2 x + 4}{x - 2} - \\frac{x^{2} + 4 x + 2}{\\left(x - 2\\right)^{2}}$"
      ],
      "text/plain": [
       "(2*x + 4)/(x - 2) - (x**2 + 4*x + 2)/(x - 2)**2"
      ]
     },
     "execution_count": 122,
     "metadata": {},
     "output_type": "execute_result"
    }
   ],
   "source": [
    "sp.diff((x**2 + 4*x + 2) / (x - 2))"
   ]
  },
  {
   "cell_type": "raw",
   "id": "7f3c2579-67ec-49d1-b21b-c7e037b23ecb",
   "metadata": {},
   "source": []
  },
  {
   "cell_type": "markdown",
   "id": "b6e683d9-c3a0-424b-9857-cf03d415bc8c",
   "metadata": {},
   "source": [
    "#### 2 a)"
   ]
  },
  {
   "cell_type": "code",
   "execution_count": 123,
   "id": "be1d02cb-aa40-493f-820b-2b47a3e34032",
   "metadata": {},
   "outputs": [
    {
     "data": {
      "text/latex": [
       "$\\displaystyle - \\frac{2 x \\left(x^{3} - 2 x\\right)}{\\left(x^{2} - 1\\right)^{2}} + \\frac{3 x^{2} - 2}{x^{2} - 1}$"
      ],
      "text/plain": [
       "-2*x*(x**3 - 2*x)/(x**2 - 1)**2 + (3*x**2 - 2)/(x**2 - 1)"
      ]
     },
     "execution_count": 123,
     "metadata": {},
     "output_type": "execute_result"
    }
   ],
   "source": [
    "sp.diff((x**3 - 2*x) / (x**2 - 1))"
   ]
  },
  {
   "cell_type": "markdown",
   "id": "a8224839-b520-4527-ab6a-2292ea43cb61",
   "metadata": {},
   "source": [
    "#### 2 b)"
   ]
  },
  {
   "cell_type": "code",
   "execution_count": 124,
   "id": "3fee6556-f6b9-4e78-8af9-80cdd503bc84",
   "metadata": {},
   "outputs": [
    {
     "data": {
      "text/latex": [
       "$\\displaystyle 2 x \\left(x^{2} - 1\\right) + 2 x \\left(x^{2} + 1\\right)$"
      ],
      "text/plain": [
       "2*x*(x**2 - 1) + 2*x*(x**2 + 1)"
      ]
     },
     "execution_count": 124,
     "metadata": {},
     "output_type": "execute_result"
    }
   ],
   "source": [
    "sp.diff((x**2 + 1) * (x**2 - 1))"
   ]
  },
  {
   "cell_type": "markdown",
   "id": "7580cbbf-9342-41ab-91d1-c3dee0c80c2a",
   "metadata": {},
   "source": [
    "#### 2 c)"
   ]
  },
  {
   "cell_type": "code",
   "execution_count": 126,
   "id": "f454df6e-734c-40f6-8d0a-6fc2b569c950",
   "metadata": {},
   "outputs": [
    {
     "data": {
      "text/latex": [
       "$\\displaystyle - \\frac{3 x^{2} \\left(3 x - 4\\right)}{\\left(x^{3} + 7\\right)^{2}} + \\frac{3}{x^{3} + 7}$"
      ],
      "text/plain": [
       "-3*x**2*(3*x - 4)/(x**3 + 7)**2 + 3/(x**3 + 7)"
      ]
     },
     "execution_count": 126,
     "metadata": {},
     "output_type": "execute_result"
    }
   ],
   "source": [
    "sp.diff((3*x - 4) / (x**3 + 7))"
   ]
  },
  {
   "cell_type": "raw",
   "id": "60e4634c-137d-4fc1-9969-f02e8c8c8b5e",
   "metadata": {},
   "source": []
  },
  {
   "cell_type": "markdown",
   "id": "59f450e2-8321-4c13-a1b2-f83ffa50bc57",
   "metadata": {},
   "source": [
    "### Oppgave 21"
   ]
  },
  {
   "cell_type": "markdown",
   "id": "fbdf75e2-ca7e-456b-bf7e-66713d7e0b10",
   "metadata": {},
   "source": [
    "#### 1 a)"
   ]
  },
  {
   "cell_type": "code",
   "execution_count": 127,
   "id": "ddcd15fe-abca-450b-aa2b-6478e7c1e35f",
   "metadata": {},
   "outputs": [
    {
     "data": {
      "text/latex": [
       "$\\displaystyle \\left(15 x^{2} + 30\\right) \\left(x^{3} + 6 x\\right)^{4}$"
      ],
      "text/plain": [
       "(15*x**2 + 30)*(x**3 + 6*x)**4"
      ]
     },
     "execution_count": 127,
     "metadata": {},
     "output_type": "execute_result"
    }
   ],
   "source": [
    "sp.diff((x**3 + 6*x)**5)"
   ]
  },
  {
   "cell_type": "markdown",
   "id": "a6baec0c-fa13-48c9-88f9-003548e2e929",
   "metadata": {},
   "source": [
    "#### 1 b)"
   ]
  },
  {
   "cell_type": "code",
   "execution_count": 128,
   "id": "b1e9b582-9a87-4aaa-a6c8-b331a2c9b958",
   "metadata": {},
   "outputs": [
    {
     "data": {
      "text/latex": [
       "$\\displaystyle \\frac{2 x}{\\sqrt{2 x^{2} + 5}}$"
      ],
      "text/plain": [
       "2*x/sqrt(2*x**2 + 5)"
      ]
     },
     "execution_count": 128,
     "metadata": {},
     "output_type": "execute_result"
    }
   ],
   "source": [
    "sp.diff(sqrt(2*x**2 + 5))"
   ]
  },
  {
   "cell_type": "markdown",
   "id": "39e3c6ce-274b-4dd4-ac7c-68ddfd40f53b",
   "metadata": {},
   "source": [
    "#### 1 c)"
   ]
  },
  {
   "cell_type": "code",
   "execution_count": 182,
   "id": "1a9b2787-87e7-40a2-bceb-8158ebdf9a97",
   "metadata": {},
   "outputs": [
    {
     "data": {
      "text/latex": [
       "$\\displaystyle - \\frac{8 \\left(3 + \\frac{2}{x}\\right)^{3}}{x^{2}}$"
      ],
      "text/plain": [
       "-8*(3 + 2/x)**3/x**2"
      ]
     },
     "execution_count": 182,
     "metadata": {},
     "output_type": "execute_result"
    }
   ],
   "source": [
    "sp.diff(((2*x) / x**2 + 3)**4)"
   ]
  },
  {
   "cell_type": "markdown",
   "id": "c5498d36-ac6a-45be-beee-96439103be83",
   "metadata": {},
   "source": [
    "#### 1 d)"
   ]
  },
  {
   "cell_type": "code",
   "execution_count": 130,
   "id": "a2310ae1-5609-4ae9-a0a2-183e44a1fee1",
   "metadata": {},
   "outputs": [
    {
     "data": {
      "text/latex": [
       "$\\displaystyle 12 x^{3} \\left(2 x^{4} + 9\\right)^{2}$"
      ],
      "text/plain": [
       "12*x**3*(2*x**4 + 9)**2"
      ]
     },
     "execution_count": 130,
     "metadata": {},
     "output_type": "execute_result"
    }
   ],
   "source": [
    "sp.diff((2*x**4 + 9)**3/2)"
   ]
  },
  {
   "cell_type": "markdown",
   "id": "21e35dd0-49df-4aa7-8439-7176ce1703e7",
   "metadata": {},
   "source": [
    "#### 1 e)"
   ]
  },
  {
   "cell_type": "code",
   "execution_count": 131,
   "id": "e1877d03-a728-4824-beae-154ab6be97f9",
   "metadata": {},
   "outputs": [
    {
     "data": {
      "text/latex": [
       "$\\displaystyle - \\frac{x}{\\left(x^{2} + 1\\right)^{\\frac{3}{2}}}$"
      ],
      "text/plain": [
       "-x/(x**2 + 1)**(3/2)"
      ]
     },
     "execution_count": 131,
     "metadata": {},
     "output_type": "execute_result"
    }
   ],
   "source": [
    "sp.diff((1) / sqrt(1+x**2))"
   ]
  },
  {
   "cell_type": "markdown",
   "id": "96a7b217-0784-4ee0-9cb0-6fde442e9a86",
   "metadata": {},
   "source": [
    "#### 1 f)"
   ]
  },
  {
   "cell_type": "code",
   "execution_count": 132,
   "id": "cbdb68da-6254-4957-969b-0b26aad521db",
   "metadata": {},
   "outputs": [
    {
     "data": {
      "text/latex": [
       "$\\displaystyle x^{2} \\left(6 x + 6\\right) \\left(x^{2} + 2 x\\right)^{2} + 2 x \\left(x^{2} + 2 x\\right)^{3}$"
      ],
      "text/plain": [
       "x**2*(6*x + 6)*(x**2 + 2*x)**2 + 2*x*(x**2 + 2*x)**3"
      ]
     },
     "execution_count": 132,
     "metadata": {},
     "output_type": "execute_result"
    }
   ],
   "source": [
    "sp.diff(x**2 * (x**2 + 2*x)**3)"
   ]
  },
  {
   "cell_type": "markdown",
   "id": "364f4d14-6449-48ed-ab85-3d25bcc86512",
   "metadata": {},
   "source": [
    "#### 1 g)"
   ]
  },
  {
   "cell_type": "code",
   "execution_count": 133,
   "id": "51e7bda6-30b0-4653-8e3e-446bb19f556d",
   "metadata": {},
   "outputs": [
    {
     "data": {
      "text/latex": [
       "$\\displaystyle \\frac{2 x \\left(x - 1\\right)}{\\sqrt{x^{2} - 2 x}} + 2 \\sqrt{x^{2} - 2 x}$"
      ],
      "text/plain": [
       "2*x*(x - 1)/sqrt(x**2 - 2*x) + 2*sqrt(x**2 - 2*x)"
      ]
     },
     "execution_count": 133,
     "metadata": {},
     "output_type": "execute_result"
    }
   ],
   "source": [
    "sp.diff(x*2 * sqrt((x**2 - 2*x)))"
   ]
  },
  {
   "cell_type": "markdown",
   "id": "b3649986-f8ec-4eb7-92c5-44ce13c4b328",
   "metadata": {},
   "source": [
    "#### 1 h)"
   ]
  },
  {
   "cell_type": "code",
   "execution_count": 134,
   "id": "ae90bf57-cfae-4d3c-8926-228e64b670a9",
   "metadata": {},
   "outputs": [
    {
     "data": {
      "text/latex": [
       "$\\displaystyle \\frac{x^{2} \\left(- 6 x - 3\\right)}{\\left(x^{2} + x\\right)^{4}} + \\frac{2 x}{\\left(x^{2} + x\\right)^{3}}$"
      ],
      "text/plain": [
       "x**2*(-6*x - 3)/(x**2 + x)**4 + 2*x/(x**2 + x)**3"
      ]
     },
     "execution_count": 134,
     "metadata": {},
     "output_type": "execute_result"
    }
   ],
   "source": [
    "sp.diff(x**2 / (x**2 + x)**3)"
   ]
  },
  {
   "cell_type": "markdown",
   "id": "004d7820-07bd-40fb-aa20-ee914f2e349a",
   "metadata": {},
   "source": [
    "#### 1 i)"
   ]
  },
  {
   "cell_type": "code",
   "execution_count": 135,
   "id": "aecd4821-bff7-4f76-9b9b-8c7750cd9993",
   "metadata": {},
   "outputs": [
    {
     "data": {
      "text/latex": [
       "$\\displaystyle 9 x^{2} \\left(x^{2} + 1\\right)^{2} \\left(x^{3} + 1\\right)^{2} + 4 x \\left(x^{2} + 1\\right) \\left(x^{3} + 1\\right)^{3}$"
      ],
      "text/plain": [
       "9*x**2*(x**2 + 1)**2*(x**3 + 1)**2 + 4*x*(x**2 + 1)*(x**3 + 1)**3"
      ]
     },
     "execution_count": 135,
     "metadata": {},
     "output_type": "execute_result"
    }
   ],
   "source": [
    "sp.diff((x**2 + 1)**2 * (x**3 + 1)**3)"
   ]
  },
  {
   "cell_type": "raw",
   "id": "eac02e9d-ccdd-47a9-a8ab-5b29cf9c4ce5",
   "metadata": {},
   "source": []
  },
  {
   "cell_type": "markdown",
   "id": "0db29e2b-e63c-4104-85f7-23385c713d5d",
   "metadata": {},
   "source": [
    "#### 2 a)"
   ]
  },
  {
   "cell_type": "code",
   "execution_count": 136,
   "id": "a5748f39-987e-4ec4-b8f6-e72563237b14",
   "metadata": {},
   "outputs": [
    {
     "data": {
      "text/latex": [
       "$\\displaystyle \\left(12 x + 4\\right) \\left(3 x^{2} + 2 x\\right)$"
      ],
      "text/plain": [
       "(12*x + 4)*(3*x**2 + 2*x)"
      ]
     },
     "execution_count": 136,
     "metadata": {},
     "output_type": "execute_result"
    }
   ],
   "source": [
    "sp.diff(sqrt(3*x**2 + 2*x)**4)"
   ]
  },
  {
   "cell_type": "markdown",
   "id": "90a3372f-4445-41fe-9f9a-c3015231fbe8",
   "metadata": {},
   "source": [
    "#### 2 b)"
   ]
  },
  {
   "cell_type": "code",
   "execution_count": 137,
   "id": "3993e5d4-4558-4fd6-88e6-02c0c12f4e10",
   "metadata": {},
   "outputs": [
    {
     "data": {
      "text/latex": [
       "$\\displaystyle 15 x^{2} \\left(x^{2} + 3\\right)^{4} \\left(x^{3} + 3\\right)^{4} + 8 x \\left(x^{2} + 3\\right)^{3} \\left(x^{3} + 3\\right)^{5}$"
      ],
      "text/plain": [
       "15*x**2*(x**2 + 3)**4*(x**3 + 3)**4 + 8*x*(x**2 + 3)**3*(x**3 + 3)**5"
      ]
     },
     "execution_count": 137,
     "metadata": {},
     "output_type": "execute_result"
    }
   ],
   "source": [
    "sp.diff((x**3 + 3)**5 * (x**2 + 3)**4)"
   ]
  },
  {
   "cell_type": "markdown",
   "id": "988090aa-65f9-46a7-a145-010eb199df9f",
   "metadata": {},
   "source": [
    "#### 2 c)"
   ]
  },
  {
   "cell_type": "code",
   "execution_count": 138,
   "id": "5754f71c-b65d-47a3-9153-55ccd15e3f1c",
   "metadata": {},
   "outputs": [
    {
     "data": {
      "text/latex": [
       "$\\displaystyle \\frac{\\sqrt{2} \\sqrt{x^{2}}}{x}$"
      ],
      "text/plain": [
       "sqrt(2)*sqrt(x**2)/x"
      ]
     },
     "execution_count": 138,
     "metadata": {},
     "output_type": "execute_result"
    }
   ],
   "source": [
    "sp.diff(sqrt(x**2 + 1 * x**2))"
   ]
  },
  {
   "cell_type": "markdown",
   "id": "4a4cc446-4038-4e15-8cd1-5b2b4eeda5e6",
   "metadata": {},
   "source": [
    "#### 2 d)"
   ]
  },
  {
   "cell_type": "code",
   "execution_count": 139,
   "id": "9a8df238-93e5-4dba-a8ba-4bce02b26566",
   "metadata": {},
   "outputs": [
    {
     "data": {
      "text/latex": [
       "$\\displaystyle \\frac{\\left(18 x + 6\\right) \\left(3 x^{2} + 2 x\\right)^{2}}{x^{2}} - \\frac{2 \\left(3 x^{2} + 2 x\\right)^{3}}{x^{3}}$"
      ],
      "text/plain": [
       "(18*x + 6)*(3*x**2 + 2*x)**2/x**2 - 2*(3*x**2 + 2*x)**3/x**3"
      ]
     },
     "execution_count": 139,
     "metadata": {},
     "output_type": "execute_result"
    }
   ],
   "source": [
    "sp.diff((2*x + 3*x**2)**3 / x**2)"
   ]
  },
  {
   "cell_type": "markdown",
   "id": "19ccf838-ba6b-49e8-b6a8-c38c747c517f",
   "metadata": {},
   "source": [
    "#### 2 e)"
   ]
  },
  {
   "cell_type": "code",
   "execution_count": 140,
   "id": "7121a7e6-8b63-43f7-b17b-44b45c688081",
   "metadata": {},
   "outputs": [
    {
     "data": {
      "text/latex": [
       "$\\displaystyle \\frac{6 x^{3}}{\\sqrt{x^{4} - 5}}$"
      ],
      "text/plain": [
       "6*x**3/sqrt(x**4 - 5)"
      ]
     },
     "execution_count": 140,
     "metadata": {},
     "output_type": "execute_result"
    }
   ],
   "source": [
    "sp.diff(3*sqrt(x**4 - 5))"
   ]
  },
  {
   "cell_type": "markdown",
   "id": "43178ce1-72f7-4c60-b509-89fd972fb7a2",
   "metadata": {},
   "source": [
    "#### 2 f)"
   ]
  },
  {
   "cell_type": "code",
   "execution_count": 142,
   "id": "7262438e-cdcb-4354-8356-aa17a56cebae",
   "metadata": {},
   "outputs": [
    {
     "data": {
      "text/latex": [
       "$\\displaystyle - \\frac{2 x^{6}}{\\left(x^{4} - 1\\right)^{\\frac{3}{2}}} + \\frac{3 x^{2}}{\\sqrt{x^{4} - 1}}$"
      ],
      "text/plain": [
       "-2*x**6/(x**4 - 1)**(3/2) + 3*x**2/sqrt(x**4 - 1)"
      ]
     },
     "execution_count": 142,
     "metadata": {},
     "output_type": "execute_result"
    }
   ],
   "source": [
    "sp.diff(x**3 / sqrt(x**4 - 1))"
   ]
  },
  {
   "cell_type": "raw",
   "id": "7429c9fc-a753-4259-b579-b635ea16c513",
   "metadata": {},
   "source": []
  },
  {
   "cell_type": "markdown",
   "id": "e3a7d56d-3a5b-41f9-a5f4-6a7d86535e78",
   "metadata": {},
   "source": [
    "### Oppgave 21"
   ]
  },
  {
   "cell_type": "markdown",
   "id": "bf0a57a5-2f63-4177-8bff-27cfa5b002c5",
   "metadata": {},
   "source": [
    "#### 1 a)"
   ]
  },
  {
   "cell_type": "code",
   "execution_count": 146,
   "id": "f720926f-107e-4269-ab53-bf1b74a65773",
   "metadata": {},
   "outputs": [
    {
     "data": {
      "text/latex": [
       "$\\displaystyle \\frac{1}{x}$"
      ],
      "text/plain": [
       "1/x"
      ]
     },
     "execution_count": 146,
     "metadata": {},
     "output_type": "execute_result"
    }
   ],
   "source": [
    "sp.diff(ln(5*x))"
   ]
  },
  {
   "cell_type": "markdown",
   "id": "f6440e69-9ebe-490f-872e-0ebbba09c569",
   "metadata": {},
   "source": [
    "#### 1 b)"
   ]
  },
  {
   "cell_type": "code",
   "execution_count": 161,
   "id": "660facca-53b9-4411-89cd-f63d36d1238d",
   "metadata": {},
   "outputs": [
    {
     "data": {
      "text/latex": [
       "$\\displaystyle - 2 e^{- 2 x}$"
      ],
      "text/plain": [
       "-2*exp(-2*x)"
      ]
     },
     "execution_count": 161,
     "metadata": {},
     "output_type": "execute_result"
    }
   ],
   "source": [
    "sp.diff(exp(-2*x))"
   ]
  },
  {
   "cell_type": "markdown",
   "id": "458e74ef-96d8-4b32-8a63-33f928d3fe42",
   "metadata": {},
   "source": [
    "#### 1 c)"
   ]
  },
  {
   "cell_type": "code",
   "execution_count": 162,
   "id": "f6e4468c-b2af-475e-bb3c-f4825b55611e",
   "metadata": {},
   "outputs": [
    {
     "data": {
      "text/latex": [
       "$\\displaystyle \\frac{1}{x}$"
      ],
      "text/plain": [
       "1/x"
      ]
     },
     "execution_count": 162,
     "metadata": {},
     "output_type": "execute_result"
    }
   ],
   "source": [
    "sp.diff(ln(12*x) - 3)"
   ]
  },
  {
   "cell_type": "markdown",
   "id": "e4610861-ef6b-469a-a6bc-fbc7ba54345c",
   "metadata": {},
   "source": [
    "#### 1 d)"
   ]
  },
  {
   "cell_type": "code",
   "execution_count": 163,
   "id": "94a396f3-198a-4c13-951d-d3245a9e1c09",
   "metadata": {},
   "outputs": [
    {
     "data": {
      "text/latex": [
       "$\\displaystyle 2^{x} \\log{\\left(2 \\right)}$"
      ],
      "text/plain": [
       "2**x*log(2)"
      ]
     },
     "execution_count": 163,
     "metadata": {},
     "output_type": "execute_result"
    }
   ],
   "source": [
    "sp.diff(2**x)"
   ]
  },
  {
   "cell_type": "markdown",
   "id": "0abd964d-c08f-40a7-aae6-9a46d81d12b1",
   "metadata": {},
   "source": [
    "#### 1 e)"
   ]
  },
  {
   "cell_type": "code",
   "execution_count": 164,
   "id": "7ed66286-2482-4570-9aeb-47fba2db2482",
   "metadata": {},
   "outputs": [
    {
     "data": {
      "text/latex": [
       "$\\displaystyle 3 e^{3 x + 5}$"
      ],
      "text/plain": [
       "3*exp(3*x + 5)"
      ]
     },
     "execution_count": 164,
     "metadata": {},
     "output_type": "execute_result"
    }
   ],
   "source": [
    "sp.diff(exp(3*x + 5))"
   ]
  },
  {
   "cell_type": "markdown",
   "id": "d7656cf4-08ff-4c3b-ac63-d8768cde919e",
   "metadata": {},
   "source": [
    "#### 1 f)"
   ]
  },
  {
   "cell_type": "code",
   "execution_count": 165,
   "id": "d31f5ead-612c-4242-9037-3ab9c8adca9b",
   "metadata": {},
   "outputs": [
    {
     "data": {
      "text/latex": [
       "$\\displaystyle \\frac{5 x^{4}}{x^{5} + 1}$"
      ],
      "text/plain": [
       "5*x**4/(x**5 + 1)"
      ]
     },
     "execution_count": 165,
     "metadata": {},
     "output_type": "execute_result"
    }
   ],
   "source": [
    "sp.diff(ln(x**5 + 1))"
   ]
  },
  {
   "cell_type": "markdown",
   "id": "6ae07d03-c80c-419e-8744-66c1f8607ff4",
   "metadata": {},
   "source": [
    "#### 1 g)"
   ]
  },
  {
   "cell_type": "code",
   "execution_count": 166,
   "id": "040415a5-7bfb-4668-ba13-0fd84855953d",
   "metadata": {},
   "outputs": [
    {
     "data": {
      "text/latex": [
       "$\\displaystyle \\left(8 x + 8\\right) e^{4 x^{2} + 8 x}$"
      ],
      "text/plain": [
       "(8*x + 8)*exp(4*x**2 + 8*x)"
      ]
     },
     "execution_count": 166,
     "metadata": {},
     "output_type": "execute_result"
    }
   ],
   "source": [
    "sp.diff(exp(4*x**2 + 8*x))"
   ]
  },
  {
   "cell_type": "markdown",
   "id": "0853f6e3-2c8c-483a-aacc-677ee28ba33d",
   "metadata": {},
   "source": [
    "#### 1 h)"
   ]
  },
  {
   "cell_type": "code",
   "execution_count": 168,
   "id": "92073ebb-bdb8-4257-bec1-21f4cdc70b85",
   "metadata": {},
   "outputs": [
    {
     "data": {
      "text/latex": [
       "$\\displaystyle - \\frac{1}{x}$"
      ],
      "text/plain": [
       "-1/x"
      ]
     },
     "execution_count": 168,
     "metadata": {},
     "output_type": "execute_result"
    }
   ],
   "source": [
    "sp.diff(ln(1/x))"
   ]
  },
  {
   "cell_type": "markdown",
   "id": "4beb47e6-433a-4630-aab8-d3fa46cd46aa",
   "metadata": {},
   "source": [
    "#### 1 e)"
   ]
  },
  {
   "cell_type": "code",
   "execution_count": 169,
   "id": "cec93e4c-4f3b-427f-8e96-f22d2a0f3702",
   "metadata": {},
   "outputs": [
    {
     "data": {
      "text/latex": [
       "$\\displaystyle 3 e^{3 x + 5}$"
      ],
      "text/plain": [
       "3*exp(3*x + 5)"
      ]
     },
     "execution_count": 169,
     "metadata": {},
     "output_type": "execute_result"
    }
   ],
   "source": [
    "sp.diff(exp(3*x + 5))"
   ]
  },
  {
   "cell_type": "markdown",
   "id": "bc62680b-b6cb-4738-85bb-11f1082e0fd7",
   "metadata": {},
   "source": [
    "#### 1 f)"
   ]
  },
  {
   "cell_type": "code",
   "execution_count": 170,
   "id": "77f6974e-012a-4911-a346-84632f23d786",
   "metadata": {},
   "outputs": [
    {
     "data": {
      "text/latex": [
       "$\\displaystyle \\frac{5 x^{4}}{x^{5} + 1}$"
      ],
      "text/plain": [
       "5*x**4/(x**5 + 1)"
      ]
     },
     "execution_count": 170,
     "metadata": {},
     "output_type": "execute_result"
    }
   ],
   "source": [
    "sp.diff(ln(x**5 + 1))"
   ]
  },
  {
   "cell_type": "markdown",
   "id": "311da483-3471-4699-9a94-ca2384416c47",
   "metadata": {},
   "source": [
    "#### 1 g)"
   ]
  },
  {
   "cell_type": "code",
   "execution_count": 171,
   "id": "38caeaf8-3a9d-4c9b-bf8a-3316a0ce3665",
   "metadata": {},
   "outputs": [
    {
     "data": {
      "text/latex": [
       "$\\displaystyle \\left(8 x + 8\\right) e^{4 x^{2} + 8 x}$"
      ],
      "text/plain": [
       "(8*x + 8)*exp(4*x**2 + 8*x)"
      ]
     },
     "execution_count": 171,
     "metadata": {},
     "output_type": "execute_result"
    }
   ],
   "source": [
    "sp.diff(exp(4*x**2 + 8*x))"
   ]
  },
  {
   "cell_type": "markdown",
   "id": "8197834e-a60f-46ef-99e4-f9481ee70e71",
   "metadata": {},
   "source": [
    "#### 1 h)"
   ]
  },
  {
   "cell_type": "code",
   "execution_count": 172,
   "id": "625ae536-a239-472a-8f41-fe08f3b84be4",
   "metadata": {},
   "outputs": [
    {
     "data": {
      "text/latex": [
       "$\\displaystyle - \\frac{1}{x}$"
      ],
      "text/plain": [
       "-1/x"
      ]
     },
     "execution_count": 172,
     "metadata": {},
     "output_type": "execute_result"
    }
   ],
   "source": [
    "sp.diff(ln(1/x))"
   ]
  },
  {
   "cell_type": "markdown",
   "id": "ba66a201-423d-4e15-adb9-7172b2f2397a",
   "metadata": {},
   "source": [
    "#### 1 i)"
   ]
  },
  {
   "cell_type": "code",
   "execution_count": 173,
   "id": "f2b4d7a5-6749-461c-bed8-3499be6e7de0",
   "metadata": {},
   "outputs": [
    {
     "data": {
      "text/latex": [
       "$\\displaystyle 12 e^{4 x} + \\frac{6}{x}$"
      ],
      "text/plain": [
       "12*exp(4*x) + 6/x"
      ]
     },
     "execution_count": 173,
     "metadata": {},
     "output_type": "execute_result"
    }
   ],
   "source": [
    "sp.diff(6 * ln(x) + 3*exp(4*x))"
   ]
  },
  {
   "cell_type": "markdown",
   "id": "3ea03f88-aced-478c-a966-a6b1f8e40ba6",
   "metadata": {},
   "source": [
    "#### 1 j)"
   ]
  },
  {
   "cell_type": "code",
   "execution_count": 174,
   "id": "19fb2d84-b7be-456f-9837-37d76999326a",
   "metadata": {},
   "outputs": [
    {
     "data": {
      "text/latex": [
       "$\\displaystyle - x e^{- x} + e^{- x}$"
      ],
      "text/plain": [
       "-x*exp(-x) + exp(-x)"
      ]
     },
     "execution_count": 174,
     "metadata": {},
     "output_type": "execute_result"
    }
   ],
   "source": [
    "sp.diff(x * exp(-x))"
   ]
  },
  {
   "cell_type": "markdown",
   "id": "e45fe35a-645c-4e04-bae8-6011e59acb39",
   "metadata": {},
   "source": [
    "#### 1 k)"
   ]
  },
  {
   "cell_type": "code",
   "execution_count": 175,
   "id": "2b3f05c8-c71e-4dbd-adfd-cbdd35fc610f",
   "metadata": {},
   "outputs": [
    {
     "data": {
      "text/latex": [
       "$\\displaystyle \\frac{2 x^{3}}{x^{2} + 2} + 2 x \\log{\\left(x^{2} + 2 \\right)}$"
      ],
      "text/plain": [
       "2*x**3/(x**2 + 2) + 2*x*log(x**2 + 2)"
      ]
     },
     "execution_count": 175,
     "metadata": {},
     "output_type": "execute_result"
    }
   ],
   "source": [
    "sp.diff(x**2 * ln(x**2 + 2))"
   ]
  },
  {
   "cell_type": "raw",
   "id": "58a39ea4-e883-4ee2-97a7-a1ca594d16e4",
   "metadata": {},
   "source": []
  },
  {
   "cell_type": "markdown",
   "id": "5e0d13af-72c8-4a3c-932b-728e6d6e551e",
   "metadata": {},
   "source": [
    "### Oppgave 2"
   ]
  },
  {
   "cell_type": "markdown",
   "id": "8ef6c958-a3a3-411d-911d-7c939153c55f",
   "metadata": {},
   "source": [
    "#### 2 a)"
   ]
  },
  {
   "cell_type": "code",
   "execution_count": 176,
   "id": "2aa98814-6376-413b-b9dc-ba00a7dc47a0",
   "metadata": {},
   "outputs": [
    {
     "data": {
      "text/latex": [
       "$\\displaystyle 2 x^{3} e^{2 x} + 3 x^{2} e^{2 x}$"
      ],
      "text/plain": [
       "2*x**3*exp(2*x) + 3*x**2*exp(2*x)"
      ]
     },
     "execution_count": 176,
     "metadata": {},
     "output_type": "execute_result"
    }
   ],
   "source": [
    "sp.diff(x**3 * exp(2*x))"
   ]
  },
  {
   "cell_type": "markdown",
   "id": "15c77345-d74a-45d6-aea6-59aeced373bd",
   "metadata": {},
   "source": [
    "#### 2 b)"
   ]
  },
  {
   "cell_type": "code",
   "execution_count": 178,
   "id": "e6153232-5512-48fc-bbe8-019fd0e59a1e",
   "metadata": {},
   "outputs": [
    {
     "data": {
      "text/latex": [
       "$\\displaystyle \\frac{\\left(x^{2} + 1\\right) \\left(- \\frac{2 x \\left(x^{2} - 1\\right)}{\\left(x^{2} + 1\\right)^{2}} + \\frac{2 x}{x^{2} + 1}\\right)}{x^{2} - 1}$"
      ],
      "text/plain": [
       "(x**2 + 1)*(-2*x*(x**2 - 1)/(x**2 + 1)**2 + 2*x/(x**2 + 1))/(x**2 - 1)"
      ]
     },
     "execution_count": 178,
     "metadata": {},
     "output_type": "execute_result"
    }
   ],
   "source": [
    "sp.diff(ln((x**2 - 1) / (x**2 + 1)))"
   ]
  },
  {
   "cell_type": "markdown",
   "id": "793d55e0-5c9b-4994-b59f-92f3a0ced747",
   "metadata": {},
   "source": [
    "#### 2 c)"
   ]
  },
  {
   "cell_type": "code",
   "execution_count": 179,
   "id": "43c4459b-77df-4292-8c28-7f11a25941d6",
   "metadata": {},
   "outputs": [
    {
     "data": {
      "text/latex": [
       "$\\displaystyle \\frac{2 x^{3}}{x^{2} + 2} + 2 x \\log{\\left(x^{2} + 2 \\right)}$"
      ],
      "text/plain": [
       "2*x**3/(x**2 + 2) + 2*x*log(x**2 + 2)"
      ]
     },
     "execution_count": 179,
     "metadata": {},
     "output_type": "execute_result"
    }
   ],
   "source": [
    "sp.diff(x**2 * ln(x**2 + 2))"
   ]
  },
  {
   "cell_type": "markdown",
   "id": "7c5f6324-b851-4ba4-9335-edcb78636157",
   "metadata": {},
   "source": [
    "#### 2 d)"
   ]
  },
  {
   "cell_type": "code",
   "execution_count": 180,
   "id": "1dbca74c-55c2-4333-9ba0-7c29c5145386",
   "metadata": {},
   "outputs": [
    {
     "data": {
      "text/latex": [
       "$\\displaystyle - \\frac{2 x e^{- x}}{\\left(x^{2} + 1\\right)^{2}} - \\frac{e^{- x}}{x^{2} + 1}$"
      ],
      "text/plain": [
       "-2*x*exp(-x)/(x**2 + 1)**2 - exp(-x)/(x**2 + 1)"
      ]
     },
     "execution_count": 180,
     "metadata": {},
     "output_type": "execute_result"
    }
   ],
   "source": [
    "sp.diff((exp(-x)) / (x**2 + 1))"
   ]
  },
  {
   "cell_type": "code",
   "execution_count": null,
   "id": "f34f0d27-7c89-43f1-bc66-7f33517926e0",
   "metadata": {},
   "outputs": [],
   "source": []
  }
 ],
 "metadata": {
  "kernelspec": {
   "display_name": "Python 3 (ipykernel)",
   "language": "python",
   "name": "python3"
  },
  "language_info": {
   "codemirror_mode": {
    "name": "ipython",
    "version": 3
   },
   "file_extension": ".py",
   "mimetype": "text/x-python",
   "name": "python",
   "nbconvert_exporter": "python",
   "pygments_lexer": "ipython3",
   "version": "3.9.5"
  }
 },
 "nbformat": 4,
 "nbformat_minor": 5
}
